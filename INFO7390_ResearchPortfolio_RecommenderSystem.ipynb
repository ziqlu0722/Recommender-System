{
  "nbformat": 4,
  "nbformat_minor": 0,
  "metadata": {
    "colab": {
      "name": "INFO7390-ResearchPortfolio-RecommenderSystem.ipynb",
      "provenance": [],
      "collapsed_sections": [],
      "toc_visible": true,
      "machine_shape": "hm"
    },
    "kernelspec": {
      "name": "python3",
      "display_name": "Python 3"
    }
  },
  "cells": [
    {
      "cell_type": "markdown",
      "metadata": {
        "id": "_c_JuYhdMt-K",
        "colab_type": "text"
      },
      "source": [
        "# RECOMMENDER SYSTEM\n",
        "\n",
        "-- AUTHOR: ZIQING LU\n",
        "\n",
        "-- NUID: 001805353\n"
      ]
    },
    {
      "cell_type": "markdown",
      "metadata": {
        "id": "zq7GCRl1gkS3",
        "colab_type": "text"
      },
      "source": [
        "## 1.INTRODUCTION"
      ]
    },
    {
      "cell_type": "markdown",
      "metadata": {
        "id": "ibJk-tHHbDFu",
        "colab_type": "text"
      },
      "source": [
        "### 1.1 WHAT IS A RECOMMENDER SYSTEM?"
      ]
    },
    {
      "cell_type": "markdown",
      "metadata": {
        "id": "ZOW396zxfu_T",
        "colab_type": "text"
      },
      "source": [
        "What is a recommender system? Why do we need a recommender system? \n",
        "\n",
        "In modern society, people usually have too many options to choose from due to the prevalence of internet. Recommender system is a solution to this information overload problem.\n",
        "\n",
        "The Recommender System captures patterns in user behavior and helps predict what users like. Ecommerce websites, social media, content platforms, etc. are actively using recommender systems to personalize users’ experience online and help users choose products. \n",
        "\n",
        "\"The Long Tail\" theory tells us 80% sales come from popular items. However virtual shelf cost is extremely low in the context of Ecommerce booming, and the rest \"unpopular\" items could satisfy the customized need of small group of people and provide huge interest to Ecommerce sites. This long tail cannot be neglected. And it is where a recommender system can unleash its power.\n",
        "\n",
        "![The Long-tail of popularity of items](https://smashey.files.wordpress.com/2010/04/long-tail.gif)\n",
        "\n",
        "[Image Source](https://smashey.wordpress.com/2010/04/25/the-long-tail-of-life/)\n"
      ]
    },
    {
      "cell_type": "markdown",
      "metadata": {
        "id": "-IFNeyVagmKN",
        "colab_type": "text"
      },
      "source": [
        "### 1.2 OVERVIEW OF RECOMMENDER SYSTEM METHODS"
      ]
    },
    {
      "cell_type": "markdown",
      "metadata": {
        "id": "VfQ4oYqwmbdy",
        "colab_type": "text"
      },
      "source": [
        "\n",
        "\n",
        "There are 3 fundamental methods to build a recommender system - Content-based filtering, Collaborative filtering, and hybrid filtering. \n",
        "\n",
        "1. **Content-based filtering (BF)** methods are based on a description of the item and a profile of the user's preferences, [source](https://en.wikipedia.org/wiki/Recommender_system#cite_note-Aggarwal16Book-41) and then recommend the items that is similar to the most liked ones by this user.\n",
        "\n",
        "\n",
        "\n",
        "2. **Collaborative filtering (CF)** is based on the assumption that people who agreed in the past will agree in the future, and that they will like similar kinds of items as they liked in the past. The system generates recommendations using only information about rating profiles for different users or items. By locating peer users/items with a rating history similar to the current user or item, they generate recommendations using this neighborhood. [source](https://en.wikipedia.org/wiki/Recommender_system#cite_note-Aggarwal16Book-41) \n",
        "\n",
        "3. **Hybrid filtering** combines different recommenders. One common hybrid recommender is to CB and CF.\n",
        "\n",
        "![](https://miro.medium.com/max/3630/1*rCK9VjrPgpHUvSNYw7qcuQ@2x.png)\n",
        "\n",
        "[Image Source](https://towardsdatascience.com/introduction-to-recommender-systems-6c66cf15ada)"
      ]
    },
    {
      "cell_type": "markdown",
      "metadata": {
        "id": "K32vSLE-2i8y",
        "colab_type": "text"
      },
      "source": [
        "## 2.PROBLEM FORMULATION"
      ]
    },
    {
      "cell_type": "markdown",
      "metadata": {
        "id": "WFLVmxnthxCe",
        "colab_type": "text"
      },
      "source": [
        "### 2.1 BACKGROUND"
      ]
    },
    {
      "cell_type": "markdown",
      "metadata": {
        "id": "5pLa-0u758wT",
        "colab_type": "text"
      },
      "source": [
        "\n",
        "\n",
        "In this artical, we will go through different algorithms of recommender system. For each of them, we will describe their major concept, present the way they work, and discuss their pros and cons.\n",
        "\n",
        "All of the discussion for each algorithm will be based on a **movie recommendation problem**, i.e, what movies do we recommend to target user? how do we predict the ratings for movies that has not been rated by target user?\n",
        "\n",
        "Below are the details of the dataset used in this notebook:\n",
        "\n",
        "* Database: *MovieLens* (small)\n",
        "* Link: https://www.kaggle.com/shubhammehta21/movie-lens-small-latest-dataset\n",
        "* File used: *movies.csv, ratings.csv, tags.csv*"
      ]
    },
    {
      "cell_type": "markdown",
      "metadata": {
        "id": "QirvRkzEDw01",
        "colab_type": "text"
      },
      "source": [
        "### 2.2 ENVIRONMENT SET-UP"
      ]
    },
    {
      "cell_type": "markdown",
      "metadata": {
        "id": "beqG0QCBGERq",
        "colab_type": "text"
      },
      "source": [
        "#### 2.2.1 Load The Notebook\n",
        "\n",
        "I used Google Colab to write this notebook. Please follow set-up details below to check the content of the Notebook and reproduce the results.\n",
        "\n",
        "1. Load The Notebook:\n",
        "  \n",
        "  Option 1:\n",
        "\n",
        "  * Open shared view of the original Google Colab Notebook: https://colab.research.google.com/drive/1BrRl_1HXcMhYTX2mrhsJJlrFI8DpTVVD\n",
        "\n",
        "  * Click \"File\" in Menu - \"Save a Copy in Drive\" - Open the saved version using your own Google Colab account.\n",
        "\n",
        "  Option 2:\n",
        "\n",
        "  * upload the file *INFO7390_ResearchPortfolio_RecommenderSystem.ipynb* to your own Google Colab Platform.\n",
        "\n",
        "2. Upload Data Files:\n",
        "\n",
        "  Option 1:\n",
        "\n",
        "  * Click \"File\" in Left Panel\n",
        "  * \"Upload\" Needed 3 Data Files mentioned in Background Section\n",
        "\n",
        "  Option 2:\n",
        "\n",
        "  * Upload the 3 files to your Google Drive\n",
        "  * Click \"File\" in Left Panel\n",
        "  * Click \"Mount Drive\" to connect files in your Google Drive and your Google Colab Notebook.\n",
        "\n",
        "Then you can run the code as well as check the text content using your own Colab."
      ]
    },
    {
      "cell_type": "markdown",
      "metadata": {
        "id": "8cQ133-AMVyl",
        "colab_type": "text"
      },
      "source": [
        "#### 2.2.2 Load Basic Libraries and Set Working Directory"
      ]
    },
    {
      "cell_type": "code",
      "metadata": {
        "id": "mOzZ73JShkJO",
        "colab_type": "code",
        "colab": {}
      },
      "source": [
        "# Load basic libraries\n",
        "import os\n",
        "import pandas as pd\n",
        "import numpy as np\n",
        "import matplotlib.pyplot as plt\n",
        "from matplotlib.lines import Line2D\n",
        "import seaborn as sns\n",
        "\n",
        "import warnings; warnings.simplefilter('ignore')"
      ],
      "execution_count": 0,
      "outputs": []
    },
    {
      "cell_type": "markdown",
      "metadata": {
        "id": "CDftxNQUMiiV",
        "colab_type": "text"
      },
      "source": [
        "I changed the working directory to my data folder"
      ]
    },
    {
      "cell_type": "code",
      "metadata": {
        "id": "QRxYe6fshk5U",
        "colab_type": "code",
        "colab": {}
      },
      "source": [
        "os.chdir('/content/drive/My Drive/INFO7390-AdvDataSci/Recommender System/movielens-small')"
      ],
      "execution_count": 0,
      "outputs": []
    },
    {
      "cell_type": "markdown",
      "metadata": {
        "id": "tU0lSasUbjYy",
        "colab_type": "text"
      },
      "source": [
        "### 2.3 DATA REVIEW"
      ]
    },
    {
      "cell_type": "markdown",
      "metadata": {
        "id": "726JkTQ4mtyy",
        "colab_type": "text"
      },
      "source": [
        "#### 2.3.1 Set Up Environment and Load Data"
      ]
    },
    {
      "cell_type": "code",
      "metadata": {
        "id": "ETdhhgSRh8BJ",
        "colab_type": "code",
        "colab": {}
      },
      "source": [
        "# Load data\n",
        "movies = pd.read_csv('movies.csv')\n",
        "tags = pd.read_csv('tags.csv')\n",
        "ratings = pd.read_csv('ratings.csv')"
      ],
      "execution_count": 0,
      "outputs": []
    },
    {
      "cell_type": "code",
      "metadata": {
        "id": "0oK1tUHvicWC",
        "colab_type": "code",
        "outputId": "98a0b275-0efd-4288-c9bc-053f950ed1f6",
        "colab": {
          "base_uri": "https://localhost:8080/",
          "height": 111
        }
      },
      "source": [
        "movies['genres'] = movies['genres'].str.replace('|',' ')\n",
        "movies.head(2)"
      ],
      "execution_count": 0,
      "outputs": [
        {
          "output_type": "execute_result",
          "data": {
            "text/html": [
              "<div>\n",
              "<style scoped>\n",
              "    .dataframe tbody tr th:only-of-type {\n",
              "        vertical-align: middle;\n",
              "    }\n",
              "\n",
              "    .dataframe tbody tr th {\n",
              "        vertical-align: top;\n",
              "    }\n",
              "\n",
              "    .dataframe thead th {\n",
              "        text-align: right;\n",
              "    }\n",
              "</style>\n",
              "<table border=\"1\" class=\"dataframe\">\n",
              "  <thead>\n",
              "    <tr style=\"text-align: right;\">\n",
              "      <th></th>\n",
              "      <th>movieId</th>\n",
              "      <th>title</th>\n",
              "      <th>genres</th>\n",
              "    </tr>\n",
              "  </thead>\n",
              "  <tbody>\n",
              "    <tr>\n",
              "      <th>0</th>\n",
              "      <td>1</td>\n",
              "      <td>Toy Story (1995)</td>\n",
              "      <td>Adventure Animation Children Comedy Fantasy</td>\n",
              "    </tr>\n",
              "    <tr>\n",
              "      <th>1</th>\n",
              "      <td>2</td>\n",
              "      <td>Jumanji (1995)</td>\n",
              "      <td>Adventure Children Fantasy</td>\n",
              "    </tr>\n",
              "  </tbody>\n",
              "</table>\n",
              "</div>"
            ],
            "text/plain": [
              "   movieId             title                                       genres\n",
              "0        1  Toy Story (1995)  Adventure Animation Children Comedy Fantasy\n",
              "1        2    Jumanji (1995)                   Adventure Children Fantasy"
            ]
          },
          "metadata": {
            "tags": []
          },
          "execution_count": 203
        }
      ]
    },
    {
      "cell_type": "code",
      "metadata": {
        "id": "_8PeEC_gixo2",
        "colab_type": "code",
        "outputId": "fcd86eee-aff1-440a-c049-a399a7e3fdea",
        "colab": {
          "base_uri": "https://localhost:8080/",
          "height": 111
        }
      },
      "source": [
        "ratings.head(2)"
      ],
      "execution_count": 0,
      "outputs": [
        {
          "output_type": "execute_result",
          "data": {
            "text/html": [
              "<div>\n",
              "<style scoped>\n",
              "    .dataframe tbody tr th:only-of-type {\n",
              "        vertical-align: middle;\n",
              "    }\n",
              "\n",
              "    .dataframe tbody tr th {\n",
              "        vertical-align: top;\n",
              "    }\n",
              "\n",
              "    .dataframe thead th {\n",
              "        text-align: right;\n",
              "    }\n",
              "</style>\n",
              "<table border=\"1\" class=\"dataframe\">\n",
              "  <thead>\n",
              "    <tr style=\"text-align: right;\">\n",
              "      <th></th>\n",
              "      <th>userId</th>\n",
              "      <th>movieId</th>\n",
              "      <th>rating</th>\n",
              "      <th>timestamp</th>\n",
              "    </tr>\n",
              "  </thead>\n",
              "  <tbody>\n",
              "    <tr>\n",
              "      <th>0</th>\n",
              "      <td>1</td>\n",
              "      <td>1</td>\n",
              "      <td>4.0</td>\n",
              "      <td>964982703</td>\n",
              "    </tr>\n",
              "    <tr>\n",
              "      <th>1</th>\n",
              "      <td>1</td>\n",
              "      <td>3</td>\n",
              "      <td>4.0</td>\n",
              "      <td>964981247</td>\n",
              "    </tr>\n",
              "  </tbody>\n",
              "</table>\n",
              "</div>"
            ],
            "text/plain": [
              "   userId  movieId  rating  timestamp\n",
              "0       1        1     4.0  964982703\n",
              "1       1        3     4.0  964981247"
            ]
          },
          "metadata": {
            "tags": []
          },
          "execution_count": 204
        }
      ]
    },
    {
      "cell_type": "code",
      "metadata": {
        "id": "rcwEWSAEipcv",
        "colab_type": "code",
        "outputId": "be8c1b50-e625-45a8-df57-91acaabf52f6",
        "colab": {
          "base_uri": "https://localhost:8080/",
          "height": 111
        }
      },
      "source": [
        "tags.head(2)"
      ],
      "execution_count": 0,
      "outputs": [
        {
          "output_type": "execute_result",
          "data": {
            "text/html": [
              "<div>\n",
              "<style scoped>\n",
              "    .dataframe tbody tr th:only-of-type {\n",
              "        vertical-align: middle;\n",
              "    }\n",
              "\n",
              "    .dataframe tbody tr th {\n",
              "        vertical-align: top;\n",
              "    }\n",
              "\n",
              "    .dataframe thead th {\n",
              "        text-align: right;\n",
              "    }\n",
              "</style>\n",
              "<table border=\"1\" class=\"dataframe\">\n",
              "  <thead>\n",
              "    <tr style=\"text-align: right;\">\n",
              "      <th></th>\n",
              "      <th>userId</th>\n",
              "      <th>movieId</th>\n",
              "      <th>tag</th>\n",
              "      <th>timestamp</th>\n",
              "    </tr>\n",
              "  </thead>\n",
              "  <tbody>\n",
              "    <tr>\n",
              "      <th>0</th>\n",
              "      <td>2</td>\n",
              "      <td>60756</td>\n",
              "      <td>funny</td>\n",
              "      <td>1445714994</td>\n",
              "    </tr>\n",
              "    <tr>\n",
              "      <th>1</th>\n",
              "      <td>2</td>\n",
              "      <td>60756</td>\n",
              "      <td>Highly quotable</td>\n",
              "      <td>1445714996</td>\n",
              "    </tr>\n",
              "  </tbody>\n",
              "</table>\n",
              "</div>"
            ],
            "text/plain": [
              "   userId  movieId              tag   timestamp\n",
              "0       2    60756            funny  1445714994\n",
              "1       2    60756  Highly quotable  1445714996"
            ]
          },
          "metadata": {
            "tags": []
          },
          "execution_count": 205
        }
      ]
    },
    {
      "cell_type": "markdown",
      "metadata": {
        "id": "JTNdEzZ7jdRZ",
        "colab_type": "text"
      },
      "source": [
        "#### 2.3.2 Data Cleaning"
      ]
    },
    {
      "cell_type": "markdown",
      "metadata": {
        "id": "w3ZsgGKIlOhP",
        "colab_type": "text"
      },
      "source": [
        "1. Only keep users that rated over 50 movies and relevant tags, movies information"
      ]
    },
    {
      "cell_type": "code",
      "metadata": {
        "id": "vAJW7kIKjVQS",
        "colab_type": "code",
        "colab": {}
      },
      "source": [
        "# Limit ratings to users rated over 20 movies\n",
        "ratings_f = ratings.groupby('userId').filter(lambda x: len(x) >= 20)\n",
        "\n",
        "# MovieId list after filtering according to rating \n",
        "movie_list = ratings_f.movieId.unique().tolist()\n",
        "\n",
        "# Filter the movies dataframe\n",
        "movies_f = movies[movies.movieId.isin(movie_list)]\n",
        "\n",
        "# Filter the tags dataframe \n",
        "tags_f = tags[tags.movieId.isin(movie_list)]"
      ],
      "execution_count": 0,
      "outputs": []
    },
    {
      "cell_type": "markdown",
      "metadata": {
        "id": "n7knSy-Rlb4z",
        "colab_type": "text"
      },
      "source": [
        "2. Drop timestamp column"
      ]
    },
    {
      "cell_type": "code",
      "metadata": {
        "id": "SFVVGhcIlLvK",
        "colab_type": "code",
        "colab": {}
      },
      "source": [
        "tags_f.drop(['timestamp'], 1, inplace=True)\n",
        "ratings_f.drop(['timestamp'], 1, inplace=True)"
      ],
      "execution_count": 0,
      "outputs": []
    },
    {
      "cell_type": "markdown",
      "metadata": {
        "id": "kvguspCmlyAg",
        "colab_type": "text"
      },
      "source": [
        "3. Build Movie Title-ID map"
      ]
    },
    {
      "cell_type": "code",
      "metadata": {
        "id": "hRoknLvsmDsB",
        "colab_type": "code",
        "outputId": "ca5d7564-b3e4-4313-ca42-2f0567871348",
        "colab": {
          "base_uri": "https://localhost:8080/",
          "height": 34
        }
      },
      "source": [
        "movie_map = dict(zip(movies_f.title.tolist(), movies_f.movieId.tolist()))\n",
        "list(movie_map.items())[:2]"
      ],
      "execution_count": 0,
      "outputs": [
        {
          "output_type": "execute_result",
          "data": {
            "text/plain": [
              "[('Toy Story (1995)', 1), ('Jumanji (1995)', 2)]"
            ]
          },
          "metadata": {
            "tags": []
          },
          "execution_count": 208
        }
      ]
    },
    {
      "cell_type": "code",
      "metadata": {
        "id": "y6UCHDy2o82S",
        "colab_type": "code",
        "outputId": "8b9ac04b-14be-4ac4-f0d7-a3e8f9075e1e",
        "colab": {
          "base_uri": "https://localhost:8080/",
          "height": 34
        }
      },
      "source": [
        "# check # unique users and movies\n",
        "\n",
        "n_users = ratings_f['userId'].unique().shape[0]\n",
        "n_items = ratings_f['movieId'].unique().shape[0]\n",
        "print('Number of users = ' + str(n_users) + '  |  Number of movies = ' + str(n_items) )"
      ],
      "execution_count": 0,
      "outputs": [
        {
          "output_type": "stream",
          "text": [
            "Number of users = 610  |  Number of movies = 9724\n"
          ],
          "name": "stdout"
        }
      ]
    },
    {
      "cell_type": "markdown",
      "metadata": {
        "id": "2ciB52ZM4OgT",
        "colab_type": "text"
      },
      "source": [
        "#### 2.3.3 Long-Tail Plot\n",
        "\n",
        "Below function to produce the long-tail plot is from python library: [recmetrics](https://github.com/statisticianinstilettos/recmetrics)"
      ]
    },
    {
      "cell_type": "code",
      "metadata": {
        "id": "sKWGKdUP2M44",
        "colab_type": "code",
        "colab": {}
      },
      "source": [
        "def long_tail_plot(df, item_id_column, interaction_type, percentage=None, x_labels=True):\n",
        "    \"\"\"\n",
        "    Plots the long tail for a user-item interaction dataset.\n",
        "    ----------\n",
        "    df: pandas dataframe\n",
        "        user-item interaction dataframe\n",
        "        example:\n",
        "    item_id_column: str\n",
        "        column name identifying the item ids in the dataframe\n",
        "    interaction_type: str\n",
        "        type of user-item interactions\n",
        "        i.e. 'purchases', 'ratings' 'interactions', or 'clicks'\n",
        "    percentage: float, default=None\n",
        "        percent of volume to consider as the head (percent as a decimal)\n",
        "        (if default=None no line will be plotted)\n",
        "    x_tables bool, default=True\n",
        "        if True, plot x-axis tick labels\n",
        "        if False, no x-axis tick lavels will be plotted.\n",
        "    Returns:\n",
        "    -------\n",
        "        A long tail plot\n",
        "    \"\"\"\n",
        "    #calculate cumulative volumes\n",
        "    volume_df = pd.DataFrame(df[item_id_column].value_counts())\n",
        "    volume_df.reset_index(inplace=True)\n",
        "    volume_df.columns = [item_id_column, \"volume\"]\n",
        "    volume_df[item_id_column] = volume_df[item_id_column].astype(str)\n",
        "    volume_df['cumulative_volume'] = volume_df['volume'].cumsum()\n",
        "    volume_df['percent_of_total_volume'] = volume_df['cumulative_volume']/volume_df['volume'].sum()\n",
        "\n",
        "    #line plot of cumulative volume\n",
        "    x=range(0,len(volume_df))\n",
        "    ax = sns.lineplot(x, y=\"volume\", data=volume_df, color=\"black\")\n",
        "    plt.xticks(x)\n",
        "\n",
        "    #set labels\n",
        "    ax.set_title('Long Tail Plot')\n",
        "    ax.set_ylabel('# of ' + interaction_type)\n",
        "    ax.set_xlabel(item_id_column)\n",
        "\n",
        "    if percentage != None:\n",
        "        #plot vertical line at the tail location\n",
        "        head = volume_df[volume_df.percent_of_total_volume <= percentage]\n",
        "        tail = volume_df[volume_df.percent_of_total_volume > percentage]\n",
        "        items_in_head = len(head)\n",
        "        items_in_tail = len(tail)\n",
        "        plt.axvline(x=items_in_head, color=\"red\",  linestyle='--')\n",
        "\n",
        "        # fill area under plot\n",
        "        head = head.append(tail.head(1))\n",
        "        x1 = head.index.values\n",
        "        y1 = head['volume']\n",
        "        x2 = tail.index.values\n",
        "        y2 = tail['volume']\n",
        "        ax.fill_between(x1, y1, color=\"blue\", alpha=0.2)\n",
        "        ax.fill_between(x2, y2,  color=\"orange\", alpha=0.2)\n",
        "\n",
        "        #create legend\n",
        "        legend_elements = [Line2D([0], [0], marker='o', color='w', label=str(items_in_head)+': items in the head', markerfacecolor='blue', markersize=5),\n",
        "                           Line2D([0], [0], marker='o', color='w', label=str(items_in_tail)+': items in the tail', markerfacecolor='orange', markersize=5)]\n",
        "        ax.legend(handles=legend_elements, loc=1)\n",
        "\n",
        "    else:\n",
        "        x1 = volume_df[item_id_column]\n",
        "        y1 = volume_df['volume']\n",
        "        ax.fill_between(x1, y1, color=\"blue\", alpha=0.3)\n",
        "    if x_labels == False:\n",
        "        plt.xticks([], [])\n",
        "        ax.set(xticklabels=[])\n",
        "    else:\n",
        "        ax.set_xticklabels(labels = volume_df[item_id_column], rotation = 45, ha=\"right\")\n",
        "\n",
        "    plt.show()"
      ],
      "execution_count": 0,
      "outputs": []
    },
    {
      "cell_type": "code",
      "metadata": {
        "id": "B4b6DVrXm94Z",
        "colab_type": "code",
        "outputId": "e56e2b50-fb22-4cf9-ff6a-ccb2ddc4e5e9",
        "colab": {
          "base_uri": "https://localhost:8080/",
          "height": 441
        }
      },
      "source": [
        "fig = plt.figure(figsize=(15, 7))\n",
        "long_tail_plot(df=ratings_f, \n",
        "               item_id_column=\"movieId\", \n",
        "               interaction_type=\"movie ratings\", \n",
        "               percentage=0.5,\n",
        "               x_labels=False)"
      ],
      "execution_count": 0,
      "outputs": [
        {
          "output_type": "display_data",
          "data": {
            "image/png": "[encoded data removed]",
            "text/plain": [
              "<Figure size 1080x504 with 1 Axes>"
            ]
          },
          "metadata": {
            "tags": [],
            "needs_background": "light"
          }
        }
      ]
    },
    {
      "cell_type": "markdown",
      "metadata": {
        "id": "fqczy23CVRBI",
        "colab_type": "text"
      },
      "source": [
        "## 3.EVALUATION"
      ]
    },
    {
      "cell_type": "markdown",
      "metadata": {
        "id": "hxVYdUCqjJx0",
        "colab_type": "text"
      },
      "source": [
        "As a business application, there are many things to be considered when building a recommender system:\n",
        "\n",
        "* Are my **users satisfied** with the recommended items?\n",
        "  \n",
        "  * Here user feedback, click-through-rate, conversion rate could be used to measure this point.\n",
        "\n",
        "* If the recommender has a wide **coverage** and is capable to discover long-tail items?\n",
        "\n",
        "* Does the recommender provide **diversity**?\n",
        "\n",
        "* If this recommender helps meet my **business target**?\n",
        "\n",
        "* If this recommender **real-time**?\n",
        "\n",
        "* If this recommender is **explainable**?\n",
        "\n",
        "...\n",
        "\n",
        "For an machine learning scientist, the most important metric to train and evaluate a recommender is **ACCURACY**. \n",
        "\n",
        "* For recommenders like collaborative filtering engines that has a **numeric output** (predicted ratings), its accuracy can be evaluated by gap between actual and predicted ratings:\n",
        "  \n",
        "  * **RMSE** $= \\sqrt{\\frac{1}{n}\\sum_{i=1}^n(Y_i-\\hat{Y_i})^2}$\n",
        "    * square root of the average of squared error\n",
        "  * **MSE** $= \\frac{1}{n}\\sum_{i=1}^n(Y_i-\\hat{Y_i})^2$\n",
        "    * average of squared error\n",
        "  * **MAE** $= \\frac{1}{n}{\\sum_{i=1}^n\\left| Y_i-\\hat{Y_i}\\right|}$\n",
        "    * measures the average magnitude of the errors\n",
        "  \n",
        "  Differences:\n",
        "  * RMSE squares errors before average them, thus giving big punishment to big errors. It's useful when large errors are expected to be avoided. \n",
        "  * Compared to MSE, RMSE would bring the unit back to actual unit on the vertical axis.\n",
        "\n",
        "* For recommenders like content-based filtering engines that produces **a ranked list of N recommended items** for a user or if we **binarize the user-item interaction prediction**, we can evaluate the accuracy by: \n",
        "\n",
        "  *   **Precision@N** $ = \\frac{\\sum_\\limits{u\\in\\text{U}} |{R}_{(u)} \\cap {T}_{(u)}|}{\\sum_\\limits{u\\in\\text{U}}|{R}_{(u)}|}$ \n",
        "\n",
        "      * N: an integer set by the user to match the top-N recommended items\n",
        "      * u: user\n",
        "      * U: all users \n",
        "      * R(u): Top-N recommended items for user u\n",
        "      * T(u): Relevant items (that is liked/interacted by user u) in reality\n",
        "\n",
        "    Suppose that Precision@10 in a top-10 recommendation problem is 80%. This means that 80% of the recommendation I make are relevant to the user.\n",
        "    \n",
        "    [reference](https://medium.com/@m_n_malaeb/recall-and-precision-at-k-for-recommender-systems-618483226c54)\n",
        "\n",
        "  *   **Recall@N** $ = \\frac{\\sum_\\limits{u\\in\\text{U}} |{R}_{(u)} \\cap {T}_{(u)}|}{\\sum_\\limits{u\\in\\text{U}}|{T}_{(u)}|}$\n",
        "\n",
        "      * N: an integer set by the user to match the top-N recommended items\n",
        "      * u: user\n",
        "      * U: all users \n",
        "      * R(u): Top-N recommended items for user u\n",
        "      * T(u): Relevant items (that is liked/interacted by user u) in reality\n",
        "\n",
        "    Suppose that Recall@10 in a top-10 recommendation problem is 40%. This means that 40% of the total number of the relevant items appear in the top-k results.\n",
        "        \n",
        "    [reference](https://medium.com/@m_n_malaeb/recall-and-precision-at-k-for-recommender-systems-618483226c54)\n",
        "\n",
        "\n"
      ]
    },
    {
      "cell_type": "code",
      "metadata": {
        "id": "tyufpAL9VPp9",
        "colab_type": "code",
        "colab": {}
      },
      "source": [
        "# generate training and testing dataset\n",
        "\n",
        "from sklearn.model_selection import train_test_split\n",
        "train_data, test_data = train_test_split(ratings_f, test_size=0.25)"
      ],
      "execution_count": 0,
      "outputs": []
    },
    {
      "cell_type": "code",
      "metadata": {
        "id": "Q7GtC59xIXtE",
        "colab_type": "code",
        "outputId": "b5fdeebc-7b4c-49f5-dc57-cf7b4087ddf2",
        "colab": {
          "base_uri": "https://localhost:8080/",
          "height": 111
        }
      },
      "source": [
        "test_data.head(2)"
      ],
      "execution_count": 0,
      "outputs": [
        {
          "output_type": "execute_result",
          "data": {
            "text/html": [
              "<div>\n",
              "<style scoped>\n",
              "    .dataframe tbody tr th:only-of-type {\n",
              "        vertical-align: middle;\n",
              "    }\n",
              "\n",
              "    .dataframe tbody tr th {\n",
              "        vertical-align: top;\n",
              "    }\n",
              "\n",
              "    .dataframe thead th {\n",
              "        text-align: right;\n",
              "    }\n",
              "</style>\n",
              "<table border=\"1\" class=\"dataframe\">\n",
              "  <thead>\n",
              "    <tr style=\"text-align: right;\">\n",
              "      <th></th>\n",
              "      <th>userId</th>\n",
              "      <th>movieId</th>\n",
              "      <th>rating</th>\n",
              "    </tr>\n",
              "  </thead>\n",
              "  <tbody>\n",
              "    <tr>\n",
              "      <th>21036</th>\n",
              "      <td>139</td>\n",
              "      <td>66934</td>\n",
              "      <td>3.5</td>\n",
              "    </tr>\n",
              "    <tr>\n",
              "      <th>26615</th>\n",
              "      <td>182</td>\n",
              "      <td>3301</td>\n",
              "      <td>4.0</td>\n",
              "    </tr>\n",
              "  </tbody>\n",
              "</table>\n",
              "</div>"
            ],
            "text/plain": [
              "       userId  movieId  rating\n",
              "21036     139    66934     3.5\n",
              "26615     182     3301     4.0"
            ]
          },
          "metadata": {
            "tags": []
          },
          "execution_count": 213
        }
      ]
    },
    {
      "cell_type": "markdown",
      "metadata": {
        "id": "d_MRJl1o2H9s",
        "colab_type": "text"
      },
      "source": [
        "## 4.ALGORITHM EXPLORATION"
      ]
    },
    {
      "cell_type": "markdown",
      "metadata": {
        "id": "z32w7eDeiIyx",
        "colab_type": "text"
      },
      "source": [
        "### 4.1 CONTENT-BASED FILTERING"
      ]
    },
    {
      "cell_type": "markdown",
      "metadata": {
        "id": "II-Cy-176fix",
        "colab_type": "text"
      },
      "source": [
        "#### 4.1.1 Concept\n",
        "\n",
        "The core of this recommender engine is to compute the **similarity** between items based on their intrinsinc features rather than consumer feedbacks and then recommender will push similar item to users based on each user's preference history.\n",
        "\n",
        "There are several key ideas related with content-based filtering:\n",
        "\n",
        "1. How do we extract the \"**content features**\" of the items? \n",
        "\n",
        "  For some items, it's easy to leverage their **metadata** and convert to \"features\". For example, for a movie, there might be information available like director, production year, genres, crews, etc. \n",
        "\n",
        "  For items that just have a description, we need to figure out a method to extract features. Most common way to retrive information is using **TF-IDF**, which is a sub-area of Natural Language Processing(NLP). TF-IDF, short for term frequency–inverse document frequency, is a numerical statistic that is intended to reflect how important a word is to a document in a collection or corpus. [source: wiki](https://en.wikipedia.org/wiki/Tf%E2%80%93idf)\n",
        "\n",
        "  - TF-IDF = TF * IDF\n",
        "\n",
        "  - TF: Term Frequency is frequency a term appears in current document. \n",
        "  \n",
        "    - **TF** $ = \\frac{\\text{frequency occurence of term t in document}}{\\text{total number of terms in document}}$\n",
        "\n",
        "  - IDF: Inverse Document Frequency is a measure of how important the word is to help describe the item, i.e., if it's common or rare across all documents. \n",
        "  \n",
        "    - **IDF** $ =\\operatorname{log}_{10} \\left(\\frac{\\text{total number ofdocuments}}{\\text{number of documents containing term t}}\\right)$\n",
        "\n",
        "2. Represent item with **feature vectors**\n",
        "\n",
        "  After extracting features for each of the content, vectors, which represent the content and features, can be constructed for each of the items.\n",
        "\n",
        "3. How do we measure **similarity**? \n",
        "\n",
        "   Various methods can be used for measuring similarity between vector A and B:\n",
        "  * **Cosine Similarity**\n",
        "  \n",
        "    $\\cos(\\theta) = {\\mathbf{A} \\cdot \\mathbf{B} \\over \\|\\mathbf{A}\\| \\|\\mathbf{B}\\|} = \\frac{ \\sum\\limits_{i=1}^{n}{A_i  B_i} }{ \\sqrt{\\sum\\limits_{i=1}^{n}{A_i^2}}  \\sqrt{\\sum\\limits_{i=1}^{n}{B_i^2}}}$\n",
        "\n",
        "  * **Pearson's Correlation**\n",
        "\n",
        "    $\\rho_{A,B}= \\frac{\\operatorname{cov}(A,B)}{\\sigma_A \\sigma_B} = \\frac{\\operatorname{E}[(A-\\mu_A)(B-\\mu_B)]}{\\sigma_A\\sigma_B} = \\frac{\\sum ^n _{i=1}(A_i - \\bar{A})(B_i - \\bar{B})}{\\sqrt{\\sum ^n _{i=1}(A_i - \\bar{A})^2} \\sqrt{\\sum ^n _{i=1}(B_i - \\bar{B})^2}}$\n",
        "\n",
        "  Pearson Correlation Coefficient as demeaned version of Cosine Similarity.\n",
        "\n",
        "    * **Euclidean Distance**\n",
        "  \n",
        "  $\\qquad\\text{distance}_{(A, B)} = \\sqrt{\\sum\\limits_{i=1}^{n}{(A_i - B_i)^2}}$\n",
        "\n",
        "  Euclidean distance is not scale invariant, therefore scaling the data is needed. "
      ]
    },
    {
      "cell_type": "markdown",
      "metadata": {
        "id": "W127BzEi6jlM",
        "colab_type": "text"
      },
      "source": [
        "#### 4.1.2 Example\n",
        "\n",
        "[reference_1](https://github.com/youonf/recommendation_system/blob/master/content_based_filtering/content_based_recommender_approach1.ipynb)\n",
        "\n",
        "[reference_2](https://github.com/oekosheri/Recommender-movie/blob/master/Recom_walk_through.ipynb)\n"
      ]
    },
    {
      "cell_type": "markdown",
      "metadata": {
        "id": "YQnqGgIHlkEF",
        "colab_type": "text"
      },
      "source": [
        "Create metadata column using tags and genres"
      ]
    },
    {
      "cell_type": "code",
      "metadata": {
        "id": "EvPN7tJwpN9V",
        "colab_type": "code",
        "outputId": "0a0247d1-27d8-4f7a-fedf-55fc8b7dece0",
        "colab": {
          "base_uri": "https://localhost:8080/",
          "height": 142
        }
      },
      "source": [
        "# create a mixed dataframe of movies title, genres \n",
        "# and all user tags given to each movie\n",
        "mixed = pd.merge(movies_f, tags_f, on='movieId', how='left')\n",
        "mixed.head(3)\n",
        "\n",
        "# create metadata from tags and genres\n",
        "mixed.fillna(\"\", inplace=True)\n",
        "mixed = pd.DataFrame(mixed.groupby('movieId')['tag'].apply(\n",
        "                                          lambda x: \"%s\" % ' '.join(x)))\n",
        "Final = pd.merge(movies_f, mixed, on='movieId', how='left')\n",
        "Final ['metadata'] = Final[['tag', 'genres']].apply(\n",
        "                                          lambda x: ' '.join(x), axis = 1)\n",
        "Final[['movieId','title','metadata']].head(3)"
      ],
      "execution_count": 0,
      "outputs": [
        {
          "output_type": "execute_result",
          "data": {
            "text/html": [
              "<div>\n",
              "<style scoped>\n",
              "    .dataframe tbody tr th:only-of-type {\n",
              "        vertical-align: middle;\n",
              "    }\n",
              "\n",
              "    .dataframe tbody tr th {\n",
              "        vertical-align: top;\n",
              "    }\n",
              "\n",
              "    .dataframe thead th {\n",
              "        text-align: right;\n",
              "    }\n",
              "</style>\n",
              "<table border=\"1\" class=\"dataframe\">\n",
              "  <thead>\n",
              "    <tr style=\"text-align: right;\">\n",
              "      <th></th>\n",
              "      <th>movieId</th>\n",
              "      <th>title</th>\n",
              "      <th>metadata</th>\n",
              "    </tr>\n",
              "  </thead>\n",
              "  <tbody>\n",
              "    <tr>\n",
              "      <th>0</th>\n",
              "      <td>1</td>\n",
              "      <td>Toy Story (1995)</td>\n",
              "      <td>pixar pixar fun Adventure Animation Children C...</td>\n",
              "    </tr>\n",
              "    <tr>\n",
              "      <th>1</th>\n",
              "      <td>2</td>\n",
              "      <td>Jumanji (1995)</td>\n",
              "      <td>fantasy magic board game Robin Williams game A...</td>\n",
              "    </tr>\n",
              "    <tr>\n",
              "      <th>2</th>\n",
              "      <td>3</td>\n",
              "      <td>Grumpier Old Men (1995)</td>\n",
              "      <td>moldy old Comedy Romance</td>\n",
              "    </tr>\n",
              "  </tbody>\n",
              "</table>\n",
              "</div>"
            ],
            "text/plain": [
              "   movieId  ...                                           metadata\n",
              "0        1  ...  pixar pixar fun Adventure Animation Children C...\n",
              "1        2  ...  fantasy magic board game Robin Williams game A...\n",
              "2        3  ...                           moldy old Comedy Romance\n",
              "\n",
              "[3 rows x 3 columns]"
            ]
          },
          "metadata": {
            "tags": []
          },
          "execution_count": 214
        }
      ]
    },
    {
      "cell_type": "markdown",
      "metadata": {
        "id": "UPIAjt54ly6D",
        "colab_type": "text"
      },
      "source": [
        "Build tfidf matrix using metadata"
      ]
    },
    {
      "cell_type": "code",
      "metadata": {
        "id": "c_ZSE8OIpNvL",
        "colab_type": "code",
        "outputId": "f9ee6fd8-86d5-404a-ff54-8876c41d0147",
        "colab": {
          "base_uri": "https://localhost:8080/",
          "height": 34
        }
      },
      "source": [
        "# build movie description tfidf matrix \n",
        "\n",
        "from sklearn.feature_extraction.text import TfidfVectorizer\n",
        "\n",
        "vectorizer = TfidfVectorizer(analyzer='word',\n",
        "                             ngram_range=(1, 2),\n",
        "                             min_df=0, \n",
        "                             stop_words='english', \n",
        "                             max_features=10000\n",
        "                             )\n",
        "tfidf_matrix = vectorizer.fit_transform(Final['metadata'])\n",
        "\n",
        "# tfidf_features = vectorizer.get_feature_names()\n",
        "tfidf_matrix.shape"
      ],
      "execution_count": 0,
      "outputs": [
        {
          "output_type": "execute_result",
          "data": {
            "text/plain": [
              "(9724, 5452)"
            ]
          },
          "metadata": {
            "tags": []
          },
          "execution_count": 215
        }
      ]
    },
    {
      "cell_type": "markdown",
      "metadata": {
        "id": "8BfYbprfl5X2",
        "colab_type": "text"
      },
      "source": [
        "Compute similarity"
      ]
    },
    {
      "cell_type": "code",
      "metadata": {
        "colab_type": "code",
        "id": "awa016fBsZJt",
        "colab": {}
      },
      "source": [
        "# compute Cosine Similarity\n",
        "\n",
        "from sklearn.metrics.pairwise import linear_kernel, cosine_similarity\n",
        "cosine_similarity = linear_kernel(tfidf_matrix, tfidf_matrix)"
      ],
      "execution_count": 0,
      "outputs": []
    },
    {
      "cell_type": "code",
      "metadata": {
        "colab_type": "code",
        "id": "ikBQ8reysZJx",
        "colab": {}
      },
      "source": [
        "# compute Euclidean Distance Similarity\n",
        "\n",
        "from sklearn.metrics.pairwise import euclidean_distances\n",
        "euclidean_similarity = euclidean_distances(tfidf_matrix)"
      ],
      "execution_count": 0,
      "outputs": []
    },
    {
      "cell_type": "code",
      "metadata": {
        "colab_type": "code",
        "id": "Jd07EYCNsZJ1",
        "colab": {}
      },
      "source": [
        "# compute Pearson's Correlation Similarity\n",
        "\n",
        "corr_similarity = np.corrcoef(tfidf_matrix.toarray())"
      ],
      "execution_count": 0,
      "outputs": []
    },
    {
      "cell_type": "markdown",
      "metadata": {
        "id": "rgpJsQyfl9BV",
        "colab_type": "text"
      },
      "source": [
        "Get recommendation"
      ]
    },
    {
      "cell_type": "code",
      "metadata": {
        "id": "r1Od-K5nB0F3",
        "colab_type": "code",
        "colab": {}
      },
      "source": [
        "# build function to get similar movies\n",
        "\n",
        "# Final = Final.reset_index()\n",
        "titles = Final['title']\n",
        "indices = pd.Series(Final.index, index=Final['title'])\n",
        "\n",
        "def get_rec(title, similarity):\n",
        "\n",
        "    idx = indices[title]\n",
        "    sim_scores = list(enumerate(similarity[idx]))\n",
        "    sim_scores = sorted(sim_scores, key=lambda x: x[1], reverse=True)\n",
        "    sim_scores = sim_scores[1:6]\n",
        "\n",
        "    # get the movie index\n",
        "    movie_indices = [i[0] for i in sim_scores]\n",
        "\n",
        "    # return the top 5 most similar movies\n",
        "    return titles.iloc[movie_indices]"
      ],
      "execution_count": 0,
      "outputs": []
    },
    {
      "cell_type": "code",
      "metadata": {
        "colab_type": "code",
        "outputId": "0f39afa1-7f8d-4231-b06a-7eed89c903c0",
        "id": "VqelcovLsZJ4",
        "colab": {
          "base_uri": "https://localhost:8080/",
          "height": 119
        }
      },
      "source": [
        "# Cosine to measure similarity\n",
        "get_rec('Toy Story (1995)', cosine_similarity)"
      ],
      "execution_count": 0,
      "outputs": [
        {
          "output_type": "execute_result",
          "data": {
            "text/plain": [
              "1756                              Bug's Life, A (1998)\n",
              "1705                                       Antz (1998)\n",
              "2805    Adventures of Rocky and Bullwinkle, The (2000)\n",
              "2996                  Emperor's New Groove, The (2000)\n",
              "3563                             Monsters, Inc. (2001)\n",
              "Name: title, dtype: object"
            ]
          },
          "metadata": {
            "tags": []
          },
          "execution_count": 220
        }
      ]
    },
    {
      "cell_type": "code",
      "metadata": {
        "colab_type": "code",
        "outputId": "8973dbfc-3e47-4ea8-de9c-9b94131967a1",
        "id": "Y-d6V_JbsZJ8",
        "colab": {
          "base_uri": "https://localhost:8080/",
          "height": 119
        }
      },
      "source": [
        "# Euclidean Distance to measure similarity\n",
        "get_rec('Toy Story (1995)', euclidean_similarity)"
      ],
      "execution_count": 0,
      "outputs": [
        {
          "output_type": "execute_result",
          "data": {
            "text/plain": [
              "166                      Species (1995)\n",
              "290        Village of the Damned (1995)\n",
              "339                         Wolf (1994)\n",
              "447          Puppet Masters, The (1994)\n",
              "510    Silence of the Lambs, The (1991)\n",
              "Name: title, dtype: object"
            ]
          },
          "metadata": {
            "tags": []
          },
          "execution_count": 221
        }
      ]
    },
    {
      "cell_type": "code",
      "metadata": {
        "colab_type": "code",
        "outputId": "e16ac918-0243-4e90-8ec1-d253316d3d71",
        "id": "7mrH35kgsZJ_",
        "colab": {
          "base_uri": "https://localhost:8080/",
          "height": 119
        }
      },
      "source": [
        "# Pearson's Correlation to measure similarity\n",
        "get_rec('Toy Story (1995)', corr_similarity)"
      ],
      "execution_count": 0,
      "outputs": [
        {
          "output_type": "execute_result",
          "data": {
            "text/plain": [
              "1756                              Bug's Life, A (1998)\n",
              "1705                                       Antz (1998)\n",
              "2805    Adventures of Rocky and Bullwinkle, The (2000)\n",
              "2996                  Emperor's New Groove, The (2000)\n",
              "3563                             Monsters, Inc. (2001)\n",
              "Name: title, dtype: object"
            ]
          },
          "metadata": {
            "tags": []
          },
          "execution_count": 222
        }
      ]
    },
    {
      "cell_type": "markdown",
      "metadata": {
        "id": "wCnCX7QidOtx",
        "colab_type": "text"
      },
      "source": [
        "Evaluate by Recall@N and Precision@N"
      ]
    },
    {
      "cell_type": "code",
      "metadata": {
        "id": "tC0YulWb1fqU",
        "colab_type": "code",
        "colab": {}
      },
      "source": [
        "# build function to get top N recommended items\n",
        "\n",
        "movieIds = Final['movieId']\n",
        "indices = pd.Series(Final.index, index=movieIds)\n",
        "\n",
        "def cb_topN_rec(similarity, test, uid, n):\n",
        "    # use the highest-rated item as the benchmark item to produce topN rec for each uid\n",
        "\n",
        "    movieId = test[test['userId']==uid].nlargest(1, 'rating')['movieId'].values[0]\n",
        "\n",
        "    idx = indices[movieId]\n",
        "    sim_scores = list(enumerate(similarity[idx]))\n",
        "    sim_scores = sorted(sim_scores, key=lambda x: x[1], reverse=True)\n",
        "    sim_scores = sim_scores[1:1+n]\n",
        "\n",
        "    # get the movie index\n",
        "    movie_indices = [i[0] for i in sim_scores]\n",
        "\n",
        "    # return the top n most similar movies\n",
        "    return movieIds.iloc[movie_indices].tolist()"
      ],
      "execution_count": 0,
      "outputs": []
    },
    {
      "cell_type": "code",
      "metadata": {
        "id": "awxWbPG6Lt9g",
        "colab_type": "code",
        "colab": {}
      },
      "source": [
        "def get_relevant_items(test, rating_threshold):\n",
        "    \"\"\"\n",
        "    Get list of relevant items for users in test dataset\n",
        "    ----------\n",
        "    test: test dataframe with columns: userId,\tmovieId, rating\n",
        "    rating_threshold: relevant if predicted rating >= rating_threshold\n",
        "\n",
        "    Returns:\n",
        "    -------\n",
        "        dataframe with userId and relevent_items list columns\n",
        "    \"\"\"\n",
        "\n",
        "    test = test[test['rating']>=rating_threshold].groupby('userId')['movieId'].agg(rel_items=(lambda x: list(set(x)))).reset_index(drop=False)\n",
        "    \n",
        "    return test\n",
        "    \n",
        "def recommender_precision(predicted, actual):\n",
        "    \"\"\"\n",
        "    Computes the precision of each user's list of recommendations, and averages precision over all users.\n",
        "    ----------\n",
        "    actual : a list of lists\n",
        "        Actual items to be predicted\n",
        "        example: [['A', 'B', 'X'], ['A', 'B', 'Y']]\n",
        "    predicted : a list of lists\n",
        "        Ordered predictions\n",
        "        example: [['X', 'Y', 'Z'], ['X', 'Y', 'Z']]\n",
        "    Returns:\n",
        "    -------\n",
        "        precision: int\n",
        "    \"\"\"\n",
        "    def calc_precision(predicted, actual):\n",
        "\n",
        "      if not len(predicted):\n",
        "        prec = 0 \n",
        "      else:\n",
        "        prec = [value for value in predicted if value in actual]\n",
        "        prec = np.round(float(len(prec)) / float(len(predicted)), 4)\n",
        "        \n",
        "        return prec\n",
        "\n",
        "    precision = np.mean(list(map(calc_precision, predicted, actual)))\n",
        "    print('Precision@N : {}'.format(precision))\n",
        "    return precision\n",
        "    \n",
        "def recommender_recall(predicted, actual):\n",
        "    \"\"\"\n",
        "    Computes the recall of each user's list of recommendations, and averages precision over all users.\n",
        "    ----------\n",
        "    actual : a list of lists\n",
        "        Actual items to be predicted\n",
        "        example: [['A', 'B', 'X'], ['A', 'B', 'Y']]\n",
        "    predicted : a list of lists\n",
        "        Ordered predictions\n",
        "        example: [['X', 'Y', 'Z'], ['X', 'Y', 'Z']]\n",
        "    Returns:\n",
        "    -------\n",
        "        recall: int\n",
        "    \"\"\"\n",
        "\n",
        "    def calc_recall(predicted, actual):\n",
        "\n",
        "      if not len(actual):\n",
        "        reca = 0\n",
        "      else:\n",
        "        reca = [value for value in predicted if value in actual]\n",
        "        reca = np.round(float(len(reca)) / float(len(actual)), 4)\n",
        "      return reca\n",
        "\n",
        "    recall = np.mean(list(map(calc_recall, predicted, actual)))\n",
        "    print('Recall@N : {}'.format(recall))\n",
        "\n",
        "    return recall"
      ],
      "execution_count": 0,
      "outputs": []
    },
    {
      "cell_type": "code",
      "metadata": {
        "id": "EvKlQY8KT1Rc",
        "colab_type": "code",
        "outputId": "f9fdc1c9-2dcf-4ee3-ae6f-1b31f84945f4",
        "colab": {
          "base_uri": "https://localhost:8080/",
          "height": 111
        }
      },
      "source": [
        "test_df = get_relevant_items(test_data, 3)\n",
        "test_df.head(2)"
      ],
      "execution_count": 0,
      "outputs": [
        {
          "output_type": "execute_result",
          "data": {
            "text/html": [
              "<div>\n",
              "<style scoped>\n",
              "    .dataframe tbody tr th:only-of-type {\n",
              "        vertical-align: middle;\n",
              "    }\n",
              "\n",
              "    .dataframe tbody tr th {\n",
              "        vertical-align: top;\n",
              "    }\n",
              "\n",
              "    .dataframe thead th {\n",
              "        text-align: right;\n",
              "    }\n",
              "</style>\n",
              "<table border=\"1\" class=\"dataframe\">\n",
              "  <thead>\n",
              "    <tr style=\"text-align: right;\">\n",
              "      <th></th>\n",
              "      <th>userId</th>\n",
              "      <th>rel_items</th>\n",
              "    </tr>\n",
              "  </thead>\n",
              "  <tbody>\n",
              "    <tr>\n",
              "      <th>0</th>\n",
              "      <td>1</td>\n",
              "      <td>[2944, 648, 2058, 2700, 1676, 2959, 1042, 151,...</td>\n",
              "    </tr>\n",
              "    <tr>\n",
              "      <th>1</th>\n",
              "      <td>2</td>\n",
              "      <td>[318, 99114, 131724, 71535, 8798, 58559]</td>\n",
              "    </tr>\n",
              "  </tbody>\n",
              "</table>\n",
              "</div>"
            ],
            "text/plain": [
              "   userId                                          rel_items\n",
              "0       1  [2944, 648, 2058, 2700, 1676, 2959, 1042, 151,...\n",
              "1       2           [318, 99114, 131724, 71535, 8798, 58559]"
            ]
          },
          "metadata": {
            "tags": []
          },
          "execution_count": 228
        }
      ]
    },
    {
      "cell_type": "code",
      "metadata": {
        "id": "X-z-Qik7PGA-",
        "colab_type": "code",
        "outputId": "cc392292-a91d-4674-dbc3-547b42825c1c",
        "colab": {
          "base_uri": "https://localhost:8080/",
          "height": 204
        }
      },
      "source": [
        "topN_recs = [] = []\n",
        "\n",
        "for user in test_df['userId']:\n",
        "        pred = cb_topN_rec(similarity=cosine_similarity, test=test_data, uid=user, n=20)\n",
        "        topN_recs.append(pred)\n",
        "            \n",
        "test_df['cb_topN_rec'] = topN_recs\n",
        "\n",
        "test_df.head()"
      ],
      "execution_count": 0,
      "outputs": [
        {
          "output_type": "execute_result",
          "data": {
            "text/html": [
              "<div>\n",
              "<style scoped>\n",
              "    .dataframe tbody tr th:only-of-type {\n",
              "        vertical-align: middle;\n",
              "    }\n",
              "\n",
              "    .dataframe tbody tr th {\n",
              "        vertical-align: top;\n",
              "    }\n",
              "\n",
              "    .dataframe thead th {\n",
              "        text-align: right;\n",
              "    }\n",
              "</style>\n",
              "<table border=\"1\" class=\"dataframe\">\n",
              "  <thead>\n",
              "    <tr style=\"text-align: right;\">\n",
              "      <th></th>\n",
              "      <th>userId</th>\n",
              "      <th>rel_items</th>\n",
              "      <th>cb_topN_rec</th>\n",
              "    </tr>\n",
              "  </thead>\n",
              "  <tbody>\n",
              "    <tr>\n",
              "      <th>0</th>\n",
              "      <td>1</td>\n",
              "      <td>[2944, 648, 2058, 2700, 1676, 2959, 1042, 151,...</td>\n",
              "      <td>[4990, 5218, 5448, 8974, 27619, 33615, 43869, ...</td>\n",
              "    </tr>\n",
              "    <tr>\n",
              "      <th>1</th>\n",
              "      <td>2</td>\n",
              "      <td>[318, 99114, 131724, 71535, 8798, 58559]</td>\n",
              "      <td>[99, 108, 128, 137, 206, 581, 602, 722, 759, 7...</td>\n",
              "    </tr>\n",
              "    <tr>\n",
              "      <th>2</th>\n",
              "      <td>3</td>\n",
              "      <td>[2851, 5764, 5181, 4518]</td>\n",
              "      <td>[76, 172, 379, 692, 1882, 3697, 3981, 3986, 44...</td>\n",
              "    </tr>\n",
              "    <tr>\n",
              "      <th>3</th>\n",
              "      <td>4</td>\n",
              "      <td>[1283, 899, 260, 265, 3083, 1291, 4239, 914, 2...</td>\n",
              "      <td>[5416, 6193, 41716, 91128, 105835, 145150, 61,...</td>\n",
              "    </tr>\n",
              "    <tr>\n",
              "      <th>4</th>\n",
              "      <td>5</td>\n",
              "      <td>[290, 36, 265, 589, 590, 527, 50, 595, 596, 59...</td>\n",
              "      <td>[5995, 1096, 5682, 116, 7440, 4347, 3408, 3006...</td>\n",
              "    </tr>\n",
              "  </tbody>\n",
              "</table>\n",
              "</div>"
            ],
            "text/plain": [
              "   userId  ...                                        cb_topN_rec\n",
              "0       1  ...  [4990, 5218, 5448, 8974, 27619, 33615, 43869, ...\n",
              "1       2  ...  [99, 108, 128, 137, 206, 581, 602, 722, 759, 7...\n",
              "2       3  ...  [76, 172, 379, 692, 1882, 3697, 3981, 3986, 44...\n",
              "3       4  ...  [5416, 6193, 41716, 91128, 105835, 145150, 61,...\n",
              "4       5  ...  [5995, 1096, 5682, 116, 7440, 4347, 3408, 3006...\n",
              "\n",
              "[5 rows x 3 columns]"
            ]
          },
          "metadata": {
            "tags": []
          },
          "execution_count": 254
        }
      ]
    },
    {
      "cell_type": "code",
      "metadata": {
        "id": "2lIO4s6GSRPV",
        "colab_type": "code",
        "outputId": "38edfd0f-e7fe-4458-b5a1-e9ed4ccb1210",
        "colab": {
          "base_uri": "https://localhost:8080/",
          "height": 51
        }
      },
      "source": [
        "# evaluate \n",
        "\n",
        "p = test_df['cb_topN_rec'].values.tolist()\n",
        "a = test_df['rel_items'].values.tolist()\n",
        "recommender_precision(predicted=p, actual=a), recommender_recall(predicted=p, actual=a);"
      ],
      "execution_count": 0,
      "outputs": [
        {
          "output_type": "stream",
          "text": [
            "Precision@N : 0.017187499999999998\n",
            "Recall@N : 0.024403618421052632\n"
          ],
          "name": "stdout"
        }
      ]
    },
    {
      "cell_type": "markdown",
      "metadata": {
        "id": "_YPe7hOZ9-lc",
        "colab_type": "text"
      },
      "source": [
        "#### 4.1.3 Summary\n",
        "\n",
        "According to evaluation result, this recommender does not perform well probably because Tag + Genre provided very limited information. Further improvement can be expected when incorporate more information for each movies.\n",
        "\n",
        "* Pros: \n",
        "\n",
        "  * it could avoid \"cold start\" or 'new item' problem if there's sufficient description about the item\n",
        "\n",
        "* Cons: \n",
        "\n",
        "  * it tends to recommend duplicated items;\n",
        "  * sometimes there's not enough description about items and it's difficult to extract content features accurately."
      ]
    },
    {
      "cell_type": "markdown",
      "metadata": {
        "id": "CjxxIvkS50LW",
        "colab_type": "text"
      },
      "source": [
        "### 4.2 COLLABORATIVE FILTERING"
      ]
    },
    {
      "cell_type": "markdown",
      "metadata": {
        "id": "ZzYiG1m92F4U",
        "colab_type": "text"
      },
      "source": [
        "The collaborative filtering (CF) method is based on the user-item interaction matrix. The two main areas are - **Memory-based CF** and **Model-based CF**.\n",
        "\n",
        "* Memory-based CF assumes no model, users/items are represented by their recorded interactions. \n",
        "\n",
        "* Model-based CF uses assumes a latent feature space to represent users/items. It leverages machine learning algorithm to reconstruct user-item interaction matrix to make new predictions."
      ]
    },
    {
      "cell_type": "markdown",
      "metadata": {
        "id": "UxNmbtLvhN8G",
        "colab_type": "text"
      },
      "source": [
        "#### 4.2.1 Memory-based CF"
      ]
    },
    {
      "cell_type": "markdown",
      "metadata": {
        "id": "ZW53jNxoN3OR",
        "colab_type": "text"
      },
      "source": [
        "##### 4.2.1.1 Concept"
      ]
    },
    {
      "cell_type": "markdown",
      "metadata": {
        "id": "tCnRwbSvhuVe",
        "colab_type": "text"
      },
      "source": [
        "In memory-based CF, we calculate **similarities** between users or between items only based on user-item interaction matrix and use those similarities as weights to predict a rating and produce recommendations. \n",
        "\n",
        "Specifically, users/items similarities are calculated by **Cosine Similarity, Pearson Correlation**, or **Non-parametric Algorithms**, eg. KNN.\n",
        "\n",
        "![User-based CF v s. Item-based CF](https://miro.medium.com/max/2000/1*J7bZ-K-6RwmwlYUqoXFOOQ@2x.png)\n",
        "\n",
        "[image source](https://towardsdatascience.com/introduction-to-recommender-systems-6c66cf15ada)\n",
        "\n",
        "**User-Based CF** steps:\n",
        "\n",
        "1. Each user is represented by its **vector of interactions(ratings)** with different items(movies).\n",
        "\n",
        "2. **Similarity** is calculated between users. Idea is that similar users(neighbors) have similar interaction(ratings) across different items.\n",
        "\n",
        "3. **Predict rating** based on user similarity for items(movies) that has not been interacted(rated) by the target user. \n",
        "  \n",
        "  $ \\hat{r}_{ui} = \\bar{r}_{u} + \\frac{\\sum_\\limits{u'} \\text{sim}(u, u')\\,({r}_{u'i}-\\bar{r}_{u'})}{\\sum_\\limits{u'} \\text{sim}|(u, u')|}$\n",
        "  \n",
        "  User $u$'s rating for item $i$ is given by:\n",
        "\n",
        "* the **weighted sum of all other users’ (u') ratings for item $i$ where the weighting is the similarity** between the each user and user $u$. \n",
        "* **Normalize** by the absolute sum of all weights.  \n",
        "* **Remove biases** by using relative differences in ratings - subtract each user's average rating when summing over similar users' ratings and then add the average back in at the end. Idea behind is that somer users tend to always give higher/lower ratings.\n",
        "\n",
        "  [source](https://www.ethanrosenthal.com/2015/11/02/intro-to-collaborative-filtering/)\n",
        "\n",
        "4. **Produce recommendation** based on predicted ratings.\n",
        "\n",
        "\n",
        "**Item-Based CF** steps:\n",
        "\n",
        "1. Each item is represented by its **vector of interactions(ratings)** with different users.\n",
        "\n",
        "2. **Similarity** is calculated between items. Idea is that similar items have similar interaction(ratings) across different users.\n",
        "\n",
        "3. **Predict rating** based on item similarity for items(movies) that has not been interacted(rated) by the target user. \n",
        "\n",
        "  $ \\hat{r}_{ui} = \\frac{\\sum_\\limits{i'} \\text{sim}(i, i')\\,{r}_{u'i}}{\\sum_\\limits{i'} \\text{sim}|(i, i')|}$\n",
        "\n",
        "* No need to remove rating bias here.\n",
        "* To improve the prediction, we can only considering the top K items that are most similar to the input item. [source](https://www.ethanrosenthal.com/2015/11/02/intro-to-collaborative-filtering/)\n",
        "\n",
        "4. **Produce recommendation** based on predicted ratings.\n",
        "\n",
        "\n",
        "Usually item-based CF is preferred than user-based CF due to:\n",
        "\n",
        "1. User representation vector is usually very sparse as user can only interacted with few items.\n",
        "\n",
        "2. Usually number of users is much bigger than that of items. User-based CF may consume much more computation.\n",
        "\n",
        "3. Consumer-based CF is not stable as consumers' tastes changes easily. It's difficult to maintain the backend database for consumer-based CF.\n",
        "\n",
        "4. It's difficult to find neighbors for a new user.\n",
        "\n",
        "Below diagram demos the way to predict a rating according to item-based CF. \n",
        "\n",
        "![alt text](https://raw.githubusercontent.com/ziqlu0722/Recommender-System/master/imgs/CF.png)\n",
        "\n",
        "Similarlly, ratings could be calculated according to consumer-based CF."
      ]
    },
    {
      "cell_type": "markdown",
      "metadata": {
        "id": "KDGtmjryhnvU",
        "colab_type": "text"
      },
      "source": [
        "##### 4.2.1.2 Example\n",
        "\n",
        "* [reference](https://github.com/ictar/python-doc/blob/master/Science%20and%20Data%20Analysis/%E5%9C%A8Python%E4%B8%AD%E5%AE%9E%E7%8E%B0%E4%BD%A0%E8%87%AA%E5%B7%B1%E7%9A%84%E6%8E%A8%E8%8D%90%E7%B3%BB%E7%BB%9F.md)"
      ]
    },
    {
      "cell_type": "code",
      "metadata": {
        "id": "OHIRm0ERSf7E",
        "colab_type": "code",
        "outputId": "1c1f192b-b041-4831-899b-3790bf126ab2",
        "colab": {
          "base_uri": "https://localhost:8080/",
          "height": 34
        }
      },
      "source": [
        "# create user-item interaction matrices\n",
        "\n",
        "train_mat = np.array(train_data.pivot(index='userId', columns='movieId', values='rating').fillna(0))\n",
        "test_mat = np.array(test_data.pivot(index='userId', columns='movieId', values='rating').fillna(0))\n",
        "\n",
        "print('shape of train matrix is: {}  | shape of test matrix is: {}'.format(train_mat.shape, test_mat.shape))"
      ],
      "execution_count": 0,
      "outputs": [
        {
          "output_type": "stream",
          "text": [
            "shape of train matrix is: (610, 8804)  | shape of test matrix is: (610, 5599)\n"
          ],
          "name": "stdout"
        }
      ]
    },
    {
      "cell_type": "code",
      "metadata": {
        "id": "Q0p-f1tqPhkq",
        "colab_type": "code",
        "colab": {}
      },
      "source": [
        "# calculate cosine similarity\n",
        "\n",
        "from sklearn.metrics.pairwise import pairwise_distances\n",
        "\n",
        "user_similarity = pairwise_distances(train_mat, metric='cosine')\n",
        "item_similarity = pairwise_distances(train_mat.T, metric='cosine')"
      ],
      "execution_count": 0,
      "outputs": []
    },
    {
      "cell_type": "code",
      "metadata": {
        "id": "sIp-9LdOPi5J",
        "colab_type": "code",
        "colab": {}
      },
      "source": [
        "# build predict function\n",
        "\n",
        "def predict(ratings, similarity, type='user'):\n",
        "    if type == 'user':\n",
        "        mean_user_rating = ratings.mean(axis=1)\n",
        "        #You use np.newaxis so that mean_user_rating has same format as ratings\n",
        "        ratings_diff = (ratings - mean_user_rating[:, np.newaxis]) \n",
        "        pred = mean_user_rating[:, np.newaxis] + similarity.dot(ratings_diff) / np.array([np.abs(similarity).sum(axis=1)]).T\n",
        "    elif type == 'item':\n",
        "        pred = ratings.dot(similarity) / np.array([np.abs(similarity).sum(axis=1)])     \n",
        "    return pred"
      ],
      "execution_count": 0,
      "outputs": []
    },
    {
      "cell_type": "code",
      "metadata": {
        "id": "BddEeBBGPnEU",
        "colab_type": "code",
        "colab": {}
      },
      "source": [
        "item_prediction = predict(train_mat, item_similarity, type='item')\n",
        "user_prediction = predict(train_mat, user_similarity, type='user')"
      ],
      "execution_count": 0,
      "outputs": []
    },
    {
      "cell_type": "code",
      "metadata": {
        "id": "XCi066L18Eff",
        "colab_type": "code",
        "outputId": "d38052f7-80dd-4333-8c9d-811b971b6d5f",
        "colab": {
          "base_uri": "https://localhost:8080/",
          "height": 34
        }
      },
      "source": [
        "item_prediction.shape, user_prediction.shape"
      ],
      "execution_count": 0,
      "outputs": [
        {
          "output_type": "execute_result",
          "data": {
            "text/plain": [
              "((610, 8804), (610, 8804))"
            ]
          },
          "metadata": {
            "tags": []
          },
          "execution_count": 237
        }
      ]
    },
    {
      "cell_type": "code",
      "metadata": {
        "id": "n3QD0OGYPpYx",
        "colab_type": "code",
        "colab": {}
      },
      "source": [
        "from sklearn.metrics import mean_squared_error, mean_absolute_error\n",
        "from math import sqrt\n",
        "\n",
        "def mse(prediction, ground_truth):\n",
        "    prediction = prediction[ground_truth.nonzero()].flatten() \n",
        "    ground_truth = ground_truth[ground_truth.nonzero()].flatten()\n",
        "    return mean_squared_error(prediction, ground_truth)\n",
        "\n",
        "def rmse(prediction, ground_truth):\n",
        "    prediction = prediction[ground_truth.nonzero()].flatten() \n",
        "    ground_truth = ground_truth[ground_truth.nonzero()].flatten()\n",
        "    return sqrt(mean_squared_error(prediction, ground_truth))\n",
        "\n",
        "def mae(prediction, ground_truth):\n",
        "    prediction = prediction[ground_truth.nonzero()].flatten() \n",
        "    ground_truth = ground_truth[ground_truth.nonzero()].flatten()\n",
        "    return mean_absolute_error(prediction, ground_truth)"
      ],
      "execution_count": 0,
      "outputs": []
    },
    {
      "cell_type": "code",
      "metadata": {
        "id": "L9xYjVThPsvW",
        "colab_type": "code",
        "outputId": "fd258e80-f896-40f1-b74e-b0515a8e48f4",
        "colab": {
          "base_uri": "https://localhost:8080/",
          "height": 153
        }
      },
      "source": [
        "print('User-based CF MSE: {:.4f}'.format(mse(user_prediction, test_mat)))\n",
        "print('Item-based CF MSE: {:.4f}'.format(mse(item_prediction, test_mat)))\n",
        "print('==================================================================')\n",
        "print('User-based CF RMSE: {:.4f}'.format(rmse(user_prediction, test_mat)))\n",
        "print('Item-based CF RMSE: {:.4f}'.format(rmse(item_prediction, test_mat)))\n",
        "print('==================================================================')\n",
        "print('User-based CF MAE: {:.4f}'.format(mae(user_prediction, test_mat)))\n",
        "print('Item-based CF MAE: {:.4f}'.format(mae(item_prediction, test_mat)))"
      ],
      "execution_count": 0,
      "outputs": [
        {
          "output_type": "stream",
          "text": [
            "User-based CF MSE: 12.0052\n",
            "Item-based CF MSE: 12.2405\n",
            "==================================================================\n",
            "User-based CF RMSE: 3.4649\n",
            "Item-based CF RMSE: 3.4986\n",
            "==================================================================\n",
            "User-based CF MAE: 3.2888\n",
            "Item-based CF MAE: 3.3273\n"
          ],
          "name": "stdout"
        }
      ]
    },
    {
      "cell_type": "markdown",
      "metadata": {
        "id": "hNY7vH_fhhmL",
        "colab_type": "text"
      },
      "source": [
        "##### 4.2.1.3 Summary\n",
        "\n",
        "According to evaluation result, User-based CF and Item-based CF perform similarly. However SVD-based CF outperforms the two, which we can check in next section.\n",
        "\n",
        "* Pros:\n",
        "  \n",
        "  * it's easy to implement and explain - for example, we can tell users that we recommend because those items are liked by similar user\n",
        "  * requires no information about users or items, only rating information is used\n",
        "\n",
        "* Cons: \n",
        "  * \"cold start\" problem\n",
        "  * computation problem, especially with user-based CF as there are usually many more users than items\n",
        "  * performance is not good with sparse data"
      ]
    },
    {
      "cell_type": "markdown",
      "metadata": {
        "id": "Ns6PB2cuhGjd",
        "colab_type": "text"
      },
      "source": [
        "#### 4.2.2 Model-based CF"
      ]
    },
    {
      "cell_type": "markdown",
      "metadata": {
        "id": "MB-mAab7RV3d",
        "colab_type": "text"
      },
      "source": [
        "##### 4.2.2.1 Concept"
      ]
    },
    {
      "cell_type": "markdown",
      "metadata": {
        "colab_type": "text",
        "id": "1_59b4_dh3mC"
      },
      "source": [
        "Usually the user-item rating matrix is not complete and even very sparse as no user would rate all the items provided. In model-based CF, machine learning algorithms are used to predict user's rating of unrated items.\n",
        "\n",
        "Steps for building a Model-based Recommender: \n",
        "1. train a model to predict the ratings in the user-item matrix\n",
        "2. recommend a movie based on the ranking of rating prediction\n",
        "\n",
        "Different models can be used here:\n",
        "* Matrix Factorization (MF) Based Algorithms, eg. SVD, NMF\n",
        "\n",
        "  * The main assumption for MF is that there are latent features which can reflect users/items' preferences/content. \n",
        "\n",
        "* Deep Learning Algorithms\n",
        "  * Idea befind Deep Learning approach is similar with MF approach. The Latent feature space is found by neural networks here.\n",
        "\n",
        "In this notebook, we will focused on **Matrix Factorization (MF)** Approach.\n",
        "\n",
        "MF assumes there exists a low dimensional latent space of features on which we can project user data and item data such that the user-item interaction matrix could be reconstructed as the dot product of this two lower dimensionality rectangular matrices (user-user features matrix and item-item features matrix). In this way, the matrix could be completed with predicted ratings.\n",
        "\n",
        "![alt text](https://raw.githubusercontent.com/ziqlu0722/Recommender-System/master/imgs/matrix-fac.png) \n",
        "\n",
        "Essentially, here recommendation problem is reformulated as an optimization problem with loss functions and constraints - how good we are in predicting the rating for items given a user (how do we complete the user-movie rating matrix here).\n",
        "\n",
        "Usually, there are 3 matrix factorization algorithms used to build a recommender system:\n",
        "\n",
        "* **SVD** \n",
        "\n",
        "  Specifically, the singular value decomposition of an $m \\times n$ real or complex matrix $\\mathbf{M}$ is a factorization of the form $\\mathbf{U\\Sigma V^*}$, where $\\mathbf{U}$ is an $m \\times m$ real or complex unitary matrix, $\\mathbf{\\Sigma}$ is an $m \\times n$ rectangular diagonal matrix with non-negative real numbers on the diagonal, and $\\mathbf{V}$ is an $n \\times n$ real or complex unitary matrix.  If $\\mathbf{M}$ is real, $\\mathbf{U}$ and $\\mathbf{V^T}=\\mathbf{V^*}$ are real orthonormal matrix|orthonormal matrices.\n",
        " \n",
        "  The term sometimes refers to the \"compact SVD\", a similar decomposition $\\mathbf{M}=\\mathbf{U\\Sigma V^*}$ in which $\\mathbf{\\Sigma}$ is square diagonal of size $r \\times r$, where $r \\leq\\min\\{m,n\\}$ is the rank of $\\mathbf{M}$, and has only the non-zero singular values. In this variant, $\\mathbf{U}$ is an $m \\times r$ matrix and $\\mathbf{V}$ is an $n \\times r$ matrix, such that $\\mathbf{U^*U}=\\mathbf{V^*V}=\\mathbf{I}_{r\\times r}$.\n",
        "\n",
        "    [source: wiki](https://en.wikipedia.org/wiki/Singular_value_decomposition)\n",
        "\n",
        "    ![svd](https://raw.githubusercontent.com/ziqlu0722/Recommender-System/master/imgs/svd_2.png)\n",
        "\n",
        "* **SVD++**\n",
        "  \n",
        "  The SVDpp algorithm is an extension of SVD that takes into account implicit ratings. [source: surprise document](https://surprise.readthedocs.io/en/stable/matrix_factorization.html)\n",
        "\n",
        "* **NMF**\n",
        "\n",
        "  NMF is a collaborative filtering algorithm based on Non-negative Matrix Factorization. It is very similar with SVD. [source: surprise document](https://surprise.readthedocs.io/en/stable/matrix_factorization.html)"
      ]
    },
    {
      "cell_type": "markdown",
      "metadata": {
        "colab_type": "text",
        "id": "eHeuXUuCh3mD"
      },
      "source": [
        "##### 4.2.2.2 Example\n",
        "\n",
        "In this example, we will try different matrix-factorization approach (SVD, NMF) and choose one based on cross-validation to build the final recommender.\n",
        "\n",
        "* [reference 1](https://towardsdatascience.com/building-and-testing-recommender-systems-with-surprise-step-by-step-d4ba702ef80b)\n",
        "\n",
        "* [reference 2](https://github.com/statisticianinstilettos/recmetrics/blob/master/example.ipynb)\n",
        "\n",
        "* [reference 3: suprise document](https://surprise.readthedocs.io/en/stable/getting_started.html)"
      ]
    },
    {
      "cell_type": "code",
      "metadata": {
        "id": "OeqFEQz4EpU_",
        "colab_type": "code",
        "outputId": "24d89367-165f-4f5f-dd30-ee30b6fc20bf",
        "colab": {
          "base_uri": "https://localhost:8080/",
          "height": 139
        }
      },
      "source": [
        "!pip install surprise"
      ],
      "execution_count": 0,
      "outputs": [
        {
          "output_type": "stream",
          "text": [
            "Requirement already satisfied: surprise in /usr/local/lib/python3.6/dist-packages (0.1)\n",
            "Requirement already satisfied: scikit-surprise in /usr/local/lib/python3.6/dist-packages (from surprise) (1.1.0)\n",
            "Requirement already satisfied: joblib>=0.11 in /usr/local/lib/python3.6/dist-packages (from scikit-surprise->surprise) (0.14.1)\n",
            "Requirement already satisfied: six>=1.10.0 in /usr/local/lib/python3.6/dist-packages (from scikit-surprise->surprise) (1.12.0)\n",
            "Requirement already satisfied: scipy>=1.0.0 in /usr/local/lib/python3.6/dist-packages (from scikit-surprise->surprise) (1.4.1)\n",
            "Requirement already satisfied: numpy>=1.11.2 in /usr/local/lib/python3.6/dist-packages (from scikit-surprise->surprise) (1.18.2)\n"
          ],
          "name": "stdout"
        }
      ]
    },
    {
      "cell_type": "code",
      "metadata": {
        "colab_type": "code",
        "id": "m113L7yyh3mE",
        "colab": {}
      },
      "source": [
        "from surprise import Reader, Dataset, SVD, SVDpp, NMF\n",
        "from surprise import accuracy\n",
        "from surprise.model_selection import cross_validate\n",
        "from surprise.model_selection import train_test_split\n",
        "\n",
        "reader = Reader(rating_scale=(1, 5))\n",
        "data = Dataset.load_from_df(ratings_f[['userId', 'movieId', 'rating']], reader)"
      ],
      "execution_count": 0,
      "outputs": []
    },
    {
      "cell_type": "markdown",
      "metadata": {
        "id": "n3eTvCiiql74",
        "colab_type": "text"
      },
      "source": [
        "Compare SVD vs. NMF algorithm"
      ]
    },
    {
      "cell_type": "code",
      "metadata": {
        "id": "Yq6whc7JmYBd",
        "colab_type": "code",
        "outputId": "033cc3fc-8f75-42ca-c3b6-099c9abefa86",
        "colab": {
          "base_uri": "https://localhost:8080/",
          "height": 142
        }
      },
      "source": [
        "benchmark = []\n",
        "# Iterate over all algorithms\n",
        "for algorithm in [SVD(), NMF()]:\n",
        "    # Perform cross validation\n",
        "    results = cross_validate(algorithm, data, measures=['RMSE', 'MSE', 'MAE'], cv=5, verbose=False)\n",
        "    \n",
        "    # Get results & append algorithm name\n",
        "    tmp = pd.DataFrame.from_dict(results).mean(axis=0)\n",
        "    tmp = tmp.append(pd.Series([str(algorithm).split(' ')[0].split('.')[-1]], index=['Algorithm']))\n",
        "    benchmark.append(tmp)\n",
        "    \n",
        "pd.DataFrame(benchmark).set_index('Algorithm').sort_values(['test_rmse', \n",
        "                                                            'test_mse',\n",
        "                                                            'test_mae']) "
      ],
      "execution_count": 0,
      "outputs": [
        {
          "output_type": "execute_result",
          "data": {
            "text/html": [
              "<div>\n",
              "<style scoped>\n",
              "    .dataframe tbody tr th:only-of-type {\n",
              "        vertical-align: middle;\n",
              "    }\n",
              "\n",
              "    .dataframe tbody tr th {\n",
              "        vertical-align: top;\n",
              "    }\n",
              "\n",
              "    .dataframe thead th {\n",
              "        text-align: right;\n",
              "    }\n",
              "</style>\n",
              "<table border=\"1\" class=\"dataframe\">\n",
              "  <thead>\n",
              "    <tr style=\"text-align: right;\">\n",
              "      <th></th>\n",
              "      <th>test_rmse</th>\n",
              "      <th>test_mse</th>\n",
              "      <th>test_mae</th>\n",
              "      <th>fit_time</th>\n",
              "      <th>test_time</th>\n",
              "    </tr>\n",
              "    <tr>\n",
              "      <th>Algorithm</th>\n",
              "      <th></th>\n",
              "      <th></th>\n",
              "      <th></th>\n",
              "      <th></th>\n",
              "      <th></th>\n",
              "    </tr>\n",
              "  </thead>\n",
              "  <tbody>\n",
              "    <tr>\n",
              "      <th>SVD</th>\n",
              "      <td>0.873951</td>\n",
              "      <td>0.763816</td>\n",
              "      <td>0.671045</td>\n",
              "      <td>5.103937</td>\n",
              "      <td>0.141497</td>\n",
              "    </tr>\n",
              "    <tr>\n",
              "      <th>NMF</th>\n",
              "      <td>0.920306</td>\n",
              "      <td>0.846999</td>\n",
              "      <td>0.705160</td>\n",
              "      <td>5.765401</td>\n",
              "      <td>0.118357</td>\n",
              "    </tr>\n",
              "  </tbody>\n",
              "</table>\n",
              "</div>"
            ],
            "text/plain": [
              "           test_rmse  test_mse  test_mae  fit_time  test_time\n",
              "Algorithm                                                    \n",
              "SVD         0.873951  0.763816  0.671045  5.103937   0.141497\n",
              "NMF         0.920306  0.846999  0.705160  5.765401   0.118357"
            ]
          },
          "metadata": {
            "tags": []
          },
          "execution_count": 244
        }
      ]
    },
    {
      "cell_type": "code",
      "metadata": {
        "id": "yl-QDu1r7l09",
        "colab_type": "code",
        "outputId": "c5a11287-155a-444d-8bd2-b1db2dce16b3",
        "colab": {
          "base_uri": "https://localhost:8080/",
          "height": 34
        }
      },
      "source": [
        "# SVD delivers better result, we will train using SVD and arrive at predictions\n",
        "\n",
        "# trainset = data.build_full_trainset()\n",
        "trainset, testset = train_test_split(data, test_size=0.25)\n",
        "\n",
        "mf_recommender = SVD()\n",
        "mf_recommender.fit(trainset)"
      ],
      "execution_count": 0,
      "outputs": [
        {
          "output_type": "execute_result",
          "data": {
            "text/plain": [
              "<surprise.prediction_algorithms.matrix_factorization.SVD at 0x7fdeb7008b70>"
            ]
          },
          "metadata": {
            "tags": []
          },
          "execution_count": 247
        }
      ]
    },
    {
      "cell_type": "code",
      "metadata": {
        "id": "FJKVkU0tDzRO",
        "colab_type": "code",
        "colab": {}
      },
      "source": [
        "# make predictions on test set. \n",
        "\n",
        "preds = mf_recommender.test(testset)"
      ],
      "execution_count": 0,
      "outputs": []
    },
    {
      "cell_type": "markdown",
      "metadata": {
        "id": "i4I92AFDXU2h",
        "colab_type": "text"
      },
      "source": [
        "Evaluate by MSE, RMSE, MAE"
      ]
    },
    {
      "cell_type": "code",
      "metadata": {
        "id": "bf5dIEz9E8Ys",
        "colab_type": "code",
        "outputId": "1ebeb50f-d2e4-40c7-e7cd-4b141bf95bb1",
        "colab": {
          "base_uri": "https://localhost:8080/",
          "height": 68
        }
      },
      "source": [
        "accuracy.mse(preds), accuracy.rmse(preds), accuracy.mae(preds);"
      ],
      "execution_count": 0,
      "outputs": [
        {
          "output_type": "stream",
          "text": [
            "MSE: 0.7680\n",
            "RMSE: 0.8764\n",
            "MAE:  0.6745\n"
          ],
          "name": "stdout"
        }
      ]
    },
    {
      "cell_type": "markdown",
      "metadata": {
        "id": "fdYr0BbHXcm0",
        "colab_type": "text"
      },
      "source": [
        "We can also evaluate by Recall@N and Precision@N, as long as we can convert the rating prediction into a list of recommended items.\n",
        "\n",
        "[reference: surprise](http://surprise.readthedocs.io/en/latest/FAQ.html#how-to-compute-precision-k-and-recall-k)"
      ]
    },
    {
      "cell_type": "code",
      "metadata": {
        "id": "D2XdJrSstDFu",
        "colab_type": "code",
        "colab": {}
      },
      "source": [
        "from collections import defaultdict\n",
        "\n",
        "def precision_recall_at_k(predictions, k=10, threshold=3.5):\n",
        "    '''Return precision and recall at k metrics for each user.'''\n",
        "\n",
        "    # First map the predictions to each user.\n",
        "    user_est_true = defaultdict(list)\n",
        "    for uid, _, true_r, est, _ in predictions:\n",
        "        user_est_true[uid].append((est, true_r))\n",
        "\n",
        "    precisions = dict()\n",
        "    recalls = dict()\n",
        "    for uid, user_ratings in user_est_true.items():\n",
        "\n",
        "        # Sort user ratings by estimated value\n",
        "        user_ratings.sort(key=lambda x: x[0], reverse=True)\n",
        "\n",
        "        # Number of relevant items - items that are liked/interacted by users\n",
        "        n_rel = sum((true_r >= threshold) for (_, true_r) in user_ratings)\n",
        "\n",
        "        # Number of recommended items in top k\n",
        "        n_rec_k = sum((est >= threshold) for (est, _) in user_ratings[:k])\n",
        "\n",
        "        # Number of relevant and recommended items in top k\n",
        "        n_rel_and_rec_k = sum(((true_r >= threshold) and (est >= threshold))\n",
        "                              for (est, true_r) in user_ratings[:k])\n",
        "\n",
        "        # Precision@K: Proportion of recommended items that are relevant\n",
        "        # When n_rec_k is 0, Precision is undefined. We here set it to 0.\n",
        "\n",
        "        precisions[uid] = n_rel_and_rec_k / n_rec_k if n_rec_k != 0 else 0\n",
        "\n",
        "        # Recall@K: Proportion of relevant items that are recommended\n",
        "        # When n_rel is 0, Recall is undefined. We here set it to 0.\n",
        "\n",
        "        recalls[uid] = n_rel_and_rec_k / n_rel if n_rel != 0 else 0\n",
        "\n",
        "    return precisions, recalls"
      ],
      "execution_count": 0,
      "outputs": []
    },
    {
      "cell_type": "code",
      "metadata": {
        "id": "zpU8qRNutXQD",
        "colab_type": "code",
        "outputId": "c4a9e47b-8abb-4c6a-aad6-006dd6b499e1",
        "colab": {
          "base_uri": "https://localhost:8080/",
          "height": 51
        }
      },
      "source": [
        "precisions, recalls = precision_recall_at_k(predictions=preds, k=20, threshold=3)\n",
        "\n",
        "print('Precision@N {:.4f}'.format(sum(prec for prec in precisions.values()) / len(precisions)))\n",
        "print('Recall@N {:.4f}'.format(sum(rec for rec in recalls.values()) / len(recalls)))"
      ],
      "execution_count": 0,
      "outputs": [
        {
          "output_type": "stream",
          "text": [
            "Precision@N 0.8941\n",
            "Recall@N 0.6991\n"
          ],
          "name": "stdout"
        }
      ]
    },
    {
      "cell_type": "markdown",
      "metadata": {
        "colab_type": "text",
        "id": "iWLHzm_2h3mI"
      },
      "source": [
        "##### 4.2.2.3 Summary\n",
        "\n",
        "According to Accuracy evaluation result, we can conclude that this SVD-based CF performs better than two memory-based CF we implemented previously. \n",
        "\n",
        "When we look at the Precision@N and Recall@N result, we found that this SVD-based CF outperforms the content-based recommender we implemented at the very beginning.\n",
        "\n",
        "* Pros:\n",
        "  * handles computation and sparsity better than memory based CF as dimensionality reduced\n",
        "\n",
        "* Cons:\n",
        "  \n",
        "  * \"cold start\" problem, does not work on new items that have no ratings\n",
        "  * latent space is difficult to explain and interpret\n"
      ]
    },
    {
      "cell_type": "markdown",
      "metadata": {
        "id": "pOebSC_ISU-L",
        "colab_type": "text"
      },
      "source": [
        "### 4.3 HYBRID RECOMMENDER"
      ]
    },
    {
      "cell_type": "markdown",
      "metadata": {
        "id": "VqvVzYDXZni3",
        "colab_type": "text"
      },
      "source": [
        "Hybrid recommender combines different recommendation techiniques in order to improve overall performance and overcome issues like 'code start', 'sparsity', etc.. There are different idea to hybrid recommenders:\n",
        "\n",
        "* **Weighted**: \n",
        "  \n",
        "  This idea is similar to ensembling, which aggregates and produces the final result based on the results of different recommeders \n",
        "\n",
        "  ![alt text](https://raw.githubusercontent.com/ziqlu0722/Recommender-System/master/imgs/hybrid_weighted.png)\n",
        "\n",
        "* **Switch**: \n",
        "\n",
        "  This idea sets up a plan to use different recommender in different situations.\n",
        "\n",
        "  ![alt text](https://raw.githubusercontent.com/ziqlu0722/Recommender-System/master/imgs/hybrid_switch.png)\n",
        "\n",
        "* **Cascade**: \n",
        "\n",
        "  This idea builds a new recommender based on the candidate recommendation results produced by the previous recommender. \n",
        "\n",
        "    ![alt text](https://raw.githubusercontent.com/ziqlu0722/Recommender-System/master/imgs/hybrid_cascade.png)\n",
        "\n",
        "* **Meta-level Hybrid**: \n",
        "\n",
        "  Mix different recommender at algorithm level. Like a nested function.\n",
        "\n",
        "    ![alt text](https://raw.githubusercontent.com/ziqlu0722/Recommender-System/master/imgs/hybrid_meta.png)\n",
        "  \n",
        "  For example, one way to hybrid user-based and item-based CF is to:\n",
        "  1. maintain only similar items in the user-item interaction matrix after applying item-based CF \n",
        "  2. apply user-based CF based on the shrinked matrix\n",
        "\n",
        "  This hybrid CF performs well when there's a huge difference in terms of the item content.\n",
        "\n",
        "* **Feature Augmentation**: \n",
        "\n",
        "  This idea uses the output from the previous recommender as the input of the later recommender. This idea differs Casacade idea as the output is not a recommendation result but some features. \n",
        "  \n",
        "  For example, use feature vector from a item-based CF as one of input for content-based recommender.\n",
        "\n",
        "  [Reference 1](https://zhuanlan.zhihu.com/p/53648248)\n",
        "\n",
        "  [Reference 2](https://zhuanlan.zhihu.com/p/96706042)\n",
        "\n",
        "\n",
        "  \n"
      ]
    },
    {
      "cell_type": "markdown",
      "metadata": {
        "id": "B9dC30TVNUrH",
        "colab_type": "text"
      },
      "source": [
        "## 5.SUMMARY\n",
        "\n",
        "In this notebook, some basic ideas to build a recommendation system have been discussed.\n",
        "\n",
        "* Algorithm-wise, recommender algorithms have two main categories:\n",
        "\n",
        "  * Content-based Filtering Recommender: \n",
        "    * It is built on background/meta information about items, and assumes a vector representation of those items using those prior information.\n",
        "\n",
        "  * Collaborative Filtering Recommender: \n",
        "    * No matter memory-based or model-based collaborative filtering, it is only based on user-item interaction matrix, and does not require other background/meta information about users or items.\n",
        "    * Memory-based CF doesn't assume any model, while Model-based CF assume a model and a latent representation of items and users.\n",
        "\n",
        "* Implementation-wise, there are many things need to be considered in industry:\n",
        "  * For a content-recommender, is it practical to acquire meaningful and structural features to represent the content and reflect users' different interests?\n",
        "  * How could we resolve issues like \"Cold Start\" and \"Sparsity\" if implementing a collaborative filtering recommender?\n",
        "  * Is there any \"Computation\" issue for implementing a large scale recommender system?\n",
        "  * Can we run the recommender in a real-time manner? \n",
        "  * Is it costly to maintain the backend?\n",
        "  ...\n",
        "  \n",
        "  In real-life, a hybrid recommender system is often used to overcome issues brought about by a single algorithm, thus strengthening the final recommendation performance.\n",
        "\n",
        "* Evaluation-wise, it is complicated to evaluate a recommender system:\n",
        "\n",
        "  * Some accuracy metrics - RMSE, MAE, Precision, Recall can be used to train a recommender\n",
        "  * While one should always keep in mind that the ultimate objective to build a recommender system is to help improve user satisfaction and realize business goals.\n",
        "  * As a business application, recommender system have many more desired properties than high accuracy. For example, diversity, coverage, explainability, etc. For some of those features, questionairs, A/B testing can be leveraged to measure."
      ]
    },
    {
      "cell_type": "markdown",
      "metadata": {
        "id": "0SJ7veVt1D4E",
        "colab_type": "text"
      },
      "source": [
        "## 6.ASSESSMENT"
      ]
    },
    {
      "cell_type": "markdown",
      "metadata": {
        "id": "4nC4ZM5M4Ozv",
        "colab_type": "text"
      },
      "source": [
        "**1. If there's very limited user interaction data, which recommender approach might be used?** (choose all that apply)\n",
        "\n",
        "    A. Item-based Collaborative Filtering\n",
        "    B. Content-based Filtering\n",
        "    C. Hybrid Recommender that combines Popularity Recommender, Content-based Ciltering and Collaborative Filtering\n",
        "    D. Deep-learning-based Collaborative Filtering\n",
        "\n",
        "    (Solution: B, C)\n",
        "\n",
        "**2. What can be used to evaluate a recommender system?** (choose all that apply)\n",
        "\n",
        "    A. Precision@N \n",
        "    B. Recall@N \n",
        "    C. MAE\n",
        "    D. MSE\n",
        "\n",
        "    (Solution: All)\n",
        "\n",
        "**3. Which of the following are true of Collaborative Filtering System?** (choose all that apply)\n",
        "\n",
        "    A. Even if each user has rated only few items, you can still build a CF recommender. \n",
        "    B. To build a CF recommender, you need users to rate all items in your training set. \n",
        "    C. For CF recommender, it is possible to use optimization algorithms to train the dataset. \n",
        "    D. To use CF, you need to manually design a feature vector for every item in your dataset.\n",
        "\n",
        "    (Solution: A, C)\n",
        "\n",
        "    *Note: this question is adapted from [Coursera](https://www.coursera.org/learn/machine-learning/exam/3HGvu/recommender-systems)\n",
        "\n",
        "**4. What approach can be used to measure similarity of item/user vector?** (choose all that apply)\n",
        "\n",
        "    A. Cosine\n",
        "    B. Pearson Correlation\n",
        "    C. Dot Product\n",
        "    D. Euclidean distance\n",
        "\n",
        "    (Solution: All)\n",
        "\n",
        "**5. Can you explain how does a matrix factorization based collaborative filtering works?**\n",
        "\n",
        "    (\n",
        "     Solution:\n",
        "     1: MF assumes there exists a low dimensional latent feature space to represent item and user.\n",
        "     2: MF decomposes the user-item interaction matrix into the product of lower dimensional user-feature matrix and item-feature matrix.\n",
        "     3: MF reformulats recommendation problem as an optimization problem - how good we are in predicting the rating.\n",
        "     )"
      ]
    },
    {
      "cell_type": "markdown",
      "metadata": {
        "id": "ry6hCeFR1MEC",
        "colab_type": "text"
      },
      "source": [
        "## 7.LICENSING"
      ]
    },
    {
      "cell_type": "markdown",
      "metadata": {
        "id": "xffEbgDr19oQ",
        "colab_type": "text"
      },
      "source": [
        "*  **Code is under The MIT License:**\n",
        "\n",
        "  Copyright 2020 Ziqing Lu\n",
        "\n",
        "  Permission is hereby granted, free of charge, to any person obtaining a copy of this software and associated documentation files (the \"Software\"), to deal in the Software without restriction, including without limitation the rights to use, copy, modify, merge, publish, distribute, sublicense, and/or sell copies of the Software, and to permit persons to whom the Software is furnished to do so, subject to the following conditions:\n",
        "\n",
        "  The above copyright notice and this permission notice shall be included in all copies or substantial portions of the Software.\n",
        "\n",
        "  THE SOFTWARE IS PROVIDED \"AS IS\", WITHOUT WARRANTY OF ANY KIND, EXPRESS OR IMPLIED, INCLUDING BUT NOT LIMITED TO THE WARRANTIES OF MERCHANTABILITY, FITNESS FOR A PARTICULAR PURPOSE AND NONINFRINGEMENT. IN NO EVENT SHALL THE AUTHORS OR COPYRIGHT HOLDERS BE LIABLE FOR ANY CLAIM, DAMAGES OR OTHER LIABILITY, WHETHER IN AN ACTION OF CONTRACT, TORT OR OTHERWISE, ARISING FROM, OUT OF OR IN CONNECTION WITH THE SOFTWARE OR THE USE OR OTHER DEALINGS IN THE SOFTWARE."
      ]
    },
    {
      "cell_type": "markdown",
      "metadata": {
        "id": "1vYtVzUB1pAe",
        "colab_type": "text"
      },
      "source": [
        "*  **Writing is under The Creative Commons Attribution 3.0 License:**\n",
        "\n",
        "  <a rel=\"license\" href=\"http://creativecommons.org/licenses/by/3.0/us/\"><img alt=\"Creative Commons License\" style=\"border-width:0\" src=\"https://i.creativecommons.org/l/by/3.0/us/80x15.png\" /></a><br />This work is licensed under a <a rel=\"license\" href=\"http://creativecommons.org/licenses/by/3.0/us/\">Creative Commons Attribution 3.0 United States License</a>."
      ]
    }
  ]
}